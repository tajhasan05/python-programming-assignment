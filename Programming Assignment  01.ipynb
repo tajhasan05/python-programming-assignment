{
 "cells": [
  {
   "cell_type": "markdown",
   "id": "3418d26f",
   "metadata": {},
   "source": [
    "1.) Write a Python program to print \"Hello Python\"?\n",
    "\n"
   ]
  },
  {
   "cell_type": "code",
   "execution_count": 2,
   "id": "0af72192",
   "metadata": {},
   "outputs": [
    {
     "name": "stdout",
     "output_type": "stream",
     "text": [
      "hello python\n"
     ]
    }
   ],
   "source": [
    "print(\"hello python\")"
   ]
  },
  {
   "cell_type": "markdown",
   "id": "6b16cc3b",
   "metadata": {},
   "source": [
    "2.) Write a Python program to do arithmetical operations addition and division.?\n"
   ]
  },
  {
   "cell_type": "code",
   "execution_count": 5,
   "id": "57016562",
   "metadata": {},
   "outputs": [
    {
     "name": "stdout",
     "output_type": "stream",
     "text": [
      "70\n"
     ]
    }
   ],
   "source": [
    "a= 20\n",
    "b= 50\n",
    "\n",
    "add = a+b\n",
    "print(add)"
   ]
  },
  {
   "cell_type": "code",
   "execution_count": 6,
   "id": "92257912",
   "metadata": {},
   "outputs": [
    {
     "name": "stdout",
     "output_type": "stream",
     "text": [
      "4.0\n"
     ]
    }
   ],
   "source": [
    "a = 100\n",
    "b= 25\n",
    "\n",
    "div = a/b\n",
    "print(div)"
   ]
  },
  {
   "cell_type": "markdown",
   "id": "26ab749a",
   "metadata": {},
   "source": [
    "3.) Write a Python program to find the area of a triangle?\n"
   ]
  },
  {
   "cell_type": "code",
   "execution_count": 7,
   "id": "02c068af",
   "metadata": {},
   "outputs": [
    {
     "name": "stdout",
     "output_type": "stream",
     "text": [
      "input the base40\n",
      "input the height50\n",
      "area=  1000.0\n"
     ]
    }
   ],
   "source": [
    "# as we know area of triangle = 1/2*h*b\n",
    "\n",
    "b = int(input(\"input the base\"))\n",
    "h = int(input(\"input the height\"))\n",
    "\n",
    "area = 0.5*b*h\n",
    "print(\"area= \", area)"
   ]
  },
  {
   "cell_type": "markdown",
   "id": "c5c22fc1",
   "metadata": {},
   "source": [
    "4.) Write a Python program to swap two variables?\n",
    "\n"
   ]
  },
  {
   "cell_type": "code",
   "execution_count": 10,
   "id": "6b16a797",
   "metadata": {},
   "outputs": [
    {
     "name": "stdout",
     "output_type": "stream",
     "text": [
      "100\n",
      "50\n"
     ]
    }
   ],
   "source": [
    "a = 50\n",
    "b= 100\n",
    "\n",
    "(a,b) = (b, a)\n",
    "print(a)\n",
    "print(b)"
   ]
  },
  {
   "cell_type": "markdown",
   "id": "fba69ffc",
   "metadata": {},
   "source": [
    "5.) Write a Python program to generate a random number?\n"
   ]
  },
  {
   "cell_type": "code",
   "execution_count": 26,
   "id": "d7ed1abd",
   "metadata": {},
   "outputs": [
    {
     "name": "stdout",
     "output_type": "stream",
     "text": [
      "0.5564055370744145\n"
     ]
    }
   ],
   "source": [
    "import random as r\n",
    "r = random.random()\n",
    "print(r)"
   ]
  },
  {
   "cell_type": "code",
   "execution_count": null,
   "id": "9df372cb",
   "metadata": {},
   "outputs": [],
   "source": []
  }
 ],
 "metadata": {
  "kernelspec": {
   "display_name": "Python 3 (ipykernel)",
   "language": "python",
   "name": "python3"
  },
  "language_info": {
   "codemirror_mode": {
    "name": "ipython",
    "version": 3
   },
   "file_extension": ".py",
   "mimetype": "text/x-python",
   "name": "python",
   "nbconvert_exporter": "python",
   "pygments_lexer": "ipython3",
   "version": "3.9.7"
  }
 },
 "nbformat": 4,
 "nbformat_minor": 5
}
